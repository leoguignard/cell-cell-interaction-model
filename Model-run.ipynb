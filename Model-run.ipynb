{
 "cells": [
  {
   "cell_type": "markdown",
   "metadata": {
    "deletable": true,
    "editable": true
   },
   "source": [
    "# Model typical use case\n",
    "## Imports"
   ]
  },
  {
   "cell_type": "code",
   "execution_count": null,
   "metadata": {
    "collapsed": true,
    "deletable": true,
    "editable": true
   },
   "outputs": [],
   "source": [
    "%matplotlib inline\n",
    "from IPython.display import display\n",
    "import numpy as np\n",
    "from matplotlib import pyplot as plt\n",
    "import os\n",
    "from useful_functions import *\n",
    "import cPickle as pkl\n",
    "import pandas as pd\n",
    "from datetime import date\n",
    "import ClassModel\n",
    "InteractionModel = ClassModel.InteractionModel"
   ]
  },
  {
   "cell_type": "markdown",
   "metadata": {
    "deletable": true,
    "editable": true
   },
   "source": [
    "## Definition of the useful paths, the manual variables and loading of the necessary data\n",
    "\n",
    "- `stages` defines the name of the stages that will be use by the model and their order (Stage 9 is omitted on purpose).\n",
    "- `cells_to_find_induction` are the cell that are known to undergo specification events\n",
    "- `cells in grey` are the cell that are manually added to the grey zone \n",
    "\n",
    "- `basic_kinetic_group` is the default kinetic behaviour\n",
    "- `kinetic_groups` is the dictionary that maps a ligand group to its kinetic behavior. The number represent the number of stages before being secreted at the cell interface.\n",
    "- `small_half_life` is the list of the ligands groups that have a small half life (ie 1 stage) if they are not in this list they are considered to have a long half life (ie 2 stages)\n",
    "- `z_c_end` is the daughter's maximum zygotic cell cycle acceptable by the model.\n",
    "- `time_end` is the latest time point to consider for the model\n",
    "- `begin` is the offset after division to consider the surface of contact (waiting for the division to complete)\n",
    "- `end` is the lenght of the time-window considered for the surface of contact\n",
    "- `dt` is the delta of time used for the numerical integration (it does not impact the result when the Euler method is not enforced)\n",
    "\n",
    "Both `z_c_end` AND `time_end` have to be respected for a cell division event to be taken into account\n",
    "\n",
    "`load_model_data` loads all the data necessary for the model to compute\n",
    "\n",
    "parameter_sweep_output.pkl file contains the outputs of the parameter sweep performed for this particular data set"
   ]
  },
  {
   "cell_type": "code",
   "execution_count": null,
   "metadata": {
    "collapsed": false,
    "deletable": true,
    "editable": true
   },
   "outputs": [],
   "source": [
    "path_to_data = 'DATA/'\n",
    "\n",
    "stages = np.array(['Stage 5', 'Stage 6', 'Stage 8', 'Stage 10', 'Stage 11', 'Stage 12', 'Stage 13'])\n",
    "cells_to_find_induction = ['a6.2', 'a6.3', 'a6.4', 'a6.7', 'b6.2', 'b6.4',\n",
    "                           'a7.8', 'a7.9', 'a7.10', 'a7.13', 'b7.3',\n",
    "                           'a8.7', 'a8.8', 'a8.17', 'a8.19', 'a8.25',\n",
    "                           'a8.15', 'a8.16']\n",
    "cells_in_grey = ['a7.4', 'a6.1', 'b6.1', 'b7.2', 'b8.19']\n",
    "\n",
    "basic_kinetic_group = 1\n",
    "kinetic_groups={\n",
    "    'Nodal+':0,\n",
    "    'Nodal-':0,\n",
    "    'Notch+':0,\n",
    "    'Notch-':0,\n",
    "    'BMP-':0,\n",
    "    'BMP+':0\n",
    "}\n",
    "small_half_life = ['Nodal+', 'Nodal-','Notch+','Notch-','BMP-','BMP+', 'Wnt+', 'Wnt-', 'ERK+', 'ERK-']\n",
    "\n",
    "z_c_end = 9\n",
    "time_end = 180\n",
    "\n",
    "begin = 2\n",
    "end = 100\n",
    "dt = 2\n",
    "\n",
    "(pos_AP, lin_tree, fates,\n",
    "fates2, fates3, vol, sim_nv,\n",
    "inv_lin_tree, surf_ex, names,\n",
    "surfaces, bary, properties,\n",
    "ColorMap, gene_expression,\n",
    "ground_truth, ground_truth_pw,\n",
    "fates3_names, couples, known_interactions,\n",
    "gene_affect_neighb, gene_affect_self, \n",
    "pathways, gene_effect) = load_model_data(path_to_data, stages, kinetic_groups,\n",
    "                                         basic_kinetic_group, small_half_life,\n",
    "                                         z_c_end, time_end)\n",
    "output_folder = 'Model-Output-'+date.today().isoformat()+'/'\n",
    "if not os.path.exists(output_folder):\n",
    "    os.mkdir(output_folder)"
   ]
  },
  {
   "cell_type": "markdown",
   "metadata": {
    "deletable": true,
    "editable": true
   },
   "source": [
    "## Loading of the parameter sweep results"
   ]
  },
  {
   "cell_type": "code",
   "execution_count": null,
   "metadata": {
    "collapsed": true,
    "deletable": true,
    "editable": true
   },
   "outputs": [],
   "source": [
    "f = open('DATA/param-sweep-version-5.1.1.pkl')\n",
    "FP_all, FN_all, MISSED_L_all, COORD_all = pkl.load(f)\n",
    "f.close()\n",
    "\n",
    "f = open('DATA/param-sweep-version-5.1.2.pkl')\n",
    "FP_all_tmp, FN_all_tmp, MISSED_L_all_tmp, COORD_all_tmp = pkl.load(f)\n",
    "f.close()\n",
    "\n",
    "FP_all = list(FP_all) + list(FP_all_tmp)\n",
    "FN_all = list(FN_all) + list(FN_all_tmp)\n",
    "MISSED_L_all = list(MISSED_L_all) + list(MISSED_L_all_tmp)\n",
    "COORD_all.update(COORD_all_tmp)\n",
    "\n",
    "\n",
    "output_folder = 'Model-Output-'+date.today().isoformat()+'/'\n",
    "if not os.path.exists(output_folder):\n",
    "    os.mkdir(output_folder)\n",
    "    \n",
    "R = {k:i for i, k in enumerate(np.unique(np.array(COORD_all.keys())[:,0]))}\n",
    "T = {k:i for i, k in enumerate(np.unique(np.array(COORD_all.keys())[:,1]))}\n",
    "I_T = {k:i for i, k in enumerate(np.unique(np.array(COORD_all.keys())[:,3]))}\n",
    "KF = {k:i for i, k in enumerate(np.unique(np.array(COORD_all.keys())[:,4]))}\n",
    "D6 = {k:i for i, k in enumerate(np.unique(np.array(COORD_all.keys())[:,6]))}\n",
    "D8 = {k:i for i, k in enumerate(np.unique(np.array(COORD_all.keys())[:,7]))}\n",
    "D10 = {k:i for i, k in enumerate(np.unique(np.array(COORD_all.keys())[:,8]))}\n",
    "D1 = {k:i for i, k in enumerate(np.unique(np.array(COORD_all.keys())[:,5]))}\n",
    "ALPHA_KE = {k:i for i, k in enumerate(np.unique(np.array(COORD_all.keys())[:,9]))}\n",
    "\n",
    "\n",
    "param_space = np.zeros((len(R), len(T), len(I_T), len(KF), len(D1),\n",
    "                        len(D6), len(D8), len(D10), len(ALPHA_KE))) + np.inf\n",
    "\n",
    "for k, v in COORD_all.iteritems():\n",
    "    param_space[R[k[0]], T[k[1]], I_T[k[3]],\n",
    "                KF[k[4]], D1[k[5]], D6[k[6]],\n",
    "                D8[k[7]], D10[k[8]], ALPHA_KE[k[9]]] = 4*v[0] + 2*v[1] + v[2]\n",
    "if not os.path.exists(output_folder):\n",
    "    os.mkdir(output_folder)\n",
    "min_val = 24\n",
    "max_val = 60\n",
    "\n",
    "output_folder_PS = output_folder + 'Param-sweep/'\n",
    "if not os.path.exists(output_folder_PS):\n",
    "    os.mkdir(output_folder_PS)"
   ]
  },
  {
   "cell_type": "markdown",
   "metadata": {
    "deletable": true,
    "editable": true
   },
   "source": [
    "## Parameterization of the model\n",
    "According to the parameter sweep and to the scoring of the different parametrizations as described before the best parametrization is picked"
   ]
  },
  {
   "cell_type": "code",
   "execution_count": null,
   "metadata": {
    "collapsed": true,
    "deletable": true,
    "editable": true
   },
   "outputs": [],
   "source": [
    "COORD_all_sum = {k:np.sum(np.array(v) * np.array([4,2,0])) for k, v in COORD_all.iteritems()}\n",
    "min_ = np.min(COORD_all_sum.values())\n",
    "keys = COORD_all_sum.keys()\n",
    "values = [keys[i] for i, v in enumerate(COORD_all_sum.values()) if v == min_]\n",
    "results = [COORD_all[keys[i]] for i, v in enumerate(COORD_all_sum.values()) if v == min_]\n",
    "ratio_th, low_th, hi_th, integration_time, gamma, kfLt_val, delta1, delta6, delta8, delta10 = values[0]\n",
    "delta = [delta1, delta6, delta8, delta10]\n",
    "# kfLt = {k:kfLt_val for k in gene_expression.iterkeys()}"
   ]
  },
  {
   "cell_type": "markdown",
   "metadata": {
    "deletable": true,
    "editable": true
   },
   "source": [
    "## Display of the optimal parameters"
   ]
  },
  {
   "cell_type": "code",
   "execution_count": null,
   "metadata": {
    "collapsed": false,
    "deletable": true,
    "editable": true
   },
   "outputs": [],
   "source": [
    "df = {}\n",
    "for rho_tmp, tau_tmp, tau2_tmp, IT_tmp, kfLt_tmp, delta1_tmp, delta6_tmp, delta8_tmp, delta10_tmp, aRke_tmp in values:\n",
    "    df.setdefault(r'$\\rho$', []).append(rho_tmp)\n",
    "    df.setdefault(r'$\\tau$', []).append(tau_tmp)\n",
    "    df.setdefault('Integration time', []).append(IT_tmp)\n",
    "    df.setdefault(r'$k_f.L^T$', []).append(kfLt_tmp)\n",
    "    df.setdefault(r'$\\delta_1$', []).append(delta1_tmp)\n",
    "    df.setdefault(r'$\\delta_{6,8}$', []).append(delta6_tmp)\n",
    "    df.setdefault(r'$\\delta_8$', []).append(delta8_tmp)\n",
    "    df.setdefault(r'$\\delta_{10}$', []).append(delta10_tmp)\n",
    "    df.setdefault(r'$\\alpha_R.k_e$', []).append(aRke_tmp)\n",
    "\n",
    "for CP, OP, MP in results:\n",
    "    df.setdefault('cell/ligand missed', []).append(CP)\n",
    "    df.setdefault('Over predictions', []).append(OP)\n",
    "    df.setdefault('Missed predictions', []).append(MP)\n",
    "    \n",
    "tmp = pd.DataFrame(df)\n",
    "tmp = tmp[tmp.columns[[5, 6, 8, 7, 0, 1, 4, 3, 11, 10, 9]]]\n",
    "display(tmp)"
   ]
  },
  {
   "cell_type": "markdown",
   "metadata": {
    "deletable": true,
    "editable": true
   },
   "source": [
    "## Model run and figure generation"
   ]
  },
  {
   "cell_type": "code",
   "execution_count": null,
   "metadata": {
    "collapsed": false,
    "deletable": true,
    "editable": true,
    "scrolled": true
   },
   "outputs": [],
   "source": [
    "reload(ClassModel)\n",
    "InteractionModel = ClassModel.InteractionModel\n",
    "#### Here you can manually change the different parameters.\n",
    "ratio_th, low_th, hi_th, integration_time, kfLt_val, delta1, delta6, delta8, delta10, aRke = values[1]\n",
    "delta6, delta8 = 0.05, 0.05\n",
    "delta = [delta1, delta6, delta8, delta10]\n",
    "# ratio_th = 1.6\n",
    "## THESE ARE THE COMMENTED EXAMPLES\n",
    "# delta = 1e11 ### If this is uncommented it will set the delta to 1e11 for the next run\n",
    "# kfLt_val = 1e-6 ### If this is uncommented it will set the kfLt to 1e-6 for the next run\n",
    "\n",
    "\n",
    "kfLt = {k:kfLt_val for k in gene_expression.iterkeys()}\n",
    "begin = 2\n",
    "end = 15\n",
    "model = InteractionModel(lin_tree, surf_ex, couples, low_th, hi_th, ratio_th,\n",
    "                              kfLt, cells_to_find_induction, fates2, names, fates3_names,\n",
    "                              sim_nv, vol, surfaces, gene_expression,gene_affect_neighb, \n",
    "                              gene_affect_self, inv_lin_tree, pathways, stages,gene_effect,\n",
    "                              ground_truth, ground_truth_pw, time_end=time_end, grey_zone = cells_in_grey,\n",
    "                              integration_time = integration_time, dt = dt, delta = delta,\n",
    "                              sim_ratio_th=.10, rand = True, ratio_noise = 0, alphaR_ke = aRke,\n",
    "                              z_c_end=z_c_end, begin=begin, end=end, known_interactions = known_interactions,\n",
    "                              size_increase = 1., ERK_delta = True)\n",
    "\n",
    "model.run()\n",
    "print model.format_output()"
   ]
  },
  {
   "cell_type": "code",
   "execution_count": null,
   "metadata": {
    "collapsed": false,
    "deletable": true,
    "editable": true
   },
   "outputs": [],
   "source": [
    "output_folder = 'Model-Output-'+date.today().isoformat()+'/'\n",
    "\n",
    "produce_basic_model_results(output_folder, model, values, results, \n",
    "                            cells_to_find_induction, cells_in_grey, 'WT Model')\n",
    "\n",
    "test_model_no_delta = InteractionModel(lin_tree, surf_ex, couples, low_th, hi_th, ratio_th,\n",
    "                              kfLt, cells_to_find_induction, fates2, names, fates3_names,\n",
    "                              sim_nv, vol, surfaces, gene_expression,gene_affect_neighb, \n",
    "                              gene_affect_self, inv_lin_tree, pathways, stages,gene_effect,\n",
    "                              ground_truth, ground_truth_pw, time_end=time_end, grey_zone = cells_in_grey,\n",
    "                              integration_time = integration_time, dt = dt, delta = delta, sim_ratio_th=.10,\n",
    "                              z_c_end=z_c_end, begin=begin, end=end, basic_euler = False,\n",
    "                              size_increase = 1., ERK_delta = False)\n",
    "\n",
    "test_model_no_delta.run()\n",
    "test_model_no_delta.print_E(output_folder + 'E_values_all.csv')"
   ]
  },
  {
   "cell_type": "markdown",
   "metadata": {
    "deletable": true,
    "editable": true
   },
   "source": [
    "## Parameter sweep study\n",
    "From the parameter sweep results we can study how the model behave according to the different parameters.\n",
    "\n",
    "The score is computed as described in the paper: 2 x missed cell/ligand interactions + missed specifications + over predictions"
   ]
  },
  {
   "cell_type": "markdown",
   "metadata": {
    "deletable": true,
    "editable": true
   },
   "source": [
    "## $\\tau$ vs $\\rho$"
   ]
  },
  {
   "cell_type": "code",
   "execution_count": null,
   "metadata": {
    "collapsed": false,
    "deletable": true,
    "editable": true
   },
   "outputs": [],
   "source": [
    "fig = plt.figure(figsize=(10, 8))\n",
    "ax = fig.add_subplot(111)\n",
    "img = ax.imshow(param_space.min(axis = (2, 3, 4, 5, 6, 7, 8)),\n",
    "                interpolation = 'nearest', origin = 'lower', vmin=min_val, vmax = max_val)\n",
    "ax.set_yticks(R.values())\n",
    "ax.set_yticklabels(R.keys())\n",
    "ax.set_xticks(T.values())\n",
    "ax.set_xticklabels(T.keys(), rotation = 'vertical')\n",
    "ax.set_xlabel(r'$\\tau $', fontsize = 30)\n",
    "ax.set_ylabel(r'$\\rho $', fontsize = 30)\n",
    "fig.colorbar(img, ax =ax, orientation='vertical')\n",
    "fig.tight_layout()\n",
    "plt.savefig(output_folder_PS+'tau_vs_rho.pdf')"
   ]
  },
  {
   "cell_type": "markdown",
   "metadata": {
    "deletable": true,
    "editable": true
   },
   "source": [
    "## Integration time vs $\\rho$"
   ]
  },
  {
   "cell_type": "code",
   "execution_count": null,
   "metadata": {
    "collapsed": false,
    "deletable": true,
    "editable": true
   },
   "outputs": [],
   "source": [
    "fig = plt.figure(figsize=(10, 10))\n",
    "ax = fig.add_subplot(111)\n",
    "img = ax.imshow(param_space.min(axis = (1, 3, 4, 5, 6, 7, 8)),\n",
    "                interpolation = 'nearest', origin = 'lower', vmin=min_val, vmax = max_val)\n",
    "ax.set_yticks(R.values())\n",
    "ax.set_yticklabels(R.keys())\n",
    "ax.set_xticks(I_T.values())\n",
    "ax.set_xticklabels(I_T.keys(), rotation = 'vertical')\n",
    "ax.set_xlabel('Integration time [s]', fontsize = 30)\n",
    "ax.set_ylabel(r'$\\rho $', fontsize = 30)\n",
    "fig.colorbar(img, ax =ax, orientation='vertical')\n",
    "fig.tight_layout()\n",
    "plt.savefig(output_folder_PS+'Integration_time_vs_rho.pdf')"
   ]
  },
  {
   "cell_type": "markdown",
   "metadata": {
    "deletable": true,
    "editable": true
   },
   "source": [
    "## Integration Time vs $k_f.L_t$"
   ]
  },
  {
   "cell_type": "code",
   "execution_count": null,
   "metadata": {
    "collapsed": false,
    "deletable": true,
    "editable": true
   },
   "outputs": [],
   "source": [
    "fig = plt.figure(figsize=(10, 10))\n",
    "ax = fig.add_subplot(111)\n",
    "img = ax.imshow(param_space.min(axis = (0, 1, 4, 5, 6, 7, 8)),\n",
    "                interpolation = 'nearest', origin = 'lower', vmin=min_val, vmax = max_val)\n",
    "ax.set_yticks(I_T.values())\n",
    "ax.set_yticklabels(I_T.keys())\n",
    "ax.set_xticks(KF.values())\n",
    "ax.set_xticklabels(['%.1e'%v for v in KF.keys()], rotation='vertical')\n",
    "ax.set_xlabel(r'$k_f.L_T$', fontsize = 30)\n",
    "ax.set_ylabel('Integration Time [s]', fontsize = 30)\n",
    "fig.colorbar(img, ax =ax, orientation='horizontal')\n",
    "fig.tight_layout()\n",
    "plt.savefig(output_folder_PS+'Integration_time_vs_kflt.pdf')"
   ]
  },
  {
   "cell_type": "markdown",
   "metadata": {
    "deletable": true,
    "editable": true
   },
   "source": [
    "## $k_f.L_t$ vs $\\rho$"
   ]
  },
  {
   "cell_type": "code",
   "execution_count": null,
   "metadata": {
    "collapsed": false,
    "deletable": true,
    "editable": true
   },
   "outputs": [],
   "source": [
    "fig = plt.figure(figsize=(8, 10))\n",
    "ax = fig.add_subplot(111)\n",
    "img = ax.imshow(param_space.min(axis = (1, 2, 4, 5, 6, 7, 8)),\n",
    "                interpolation = 'nearest', origin = 'lower', vmin=min_val, vmax = max_val)\n",
    "ax.set_yticks(R.values())\n",
    "ax.set_yticklabels(R.keys())\n",
    "ax.set_xticks(KF.values())\n",
    "ax.set_xticklabels(['%.1e'%v for v in KF.keys()], rotation='vertical')\n",
    "ax.set_xlabel(r'$k_f.L_T$', fontsize = 30)\n",
    "ax.set_ylabel(r'$\\rho $', fontsize = 30)\n",
    "fig.colorbar(img, ax =ax, orientation='horizontal')\n",
    "fig.tight_layout()\n",
    "plt.savefig(output_folder_PS+'kfLt_vs_rho.pdf')"
   ]
  },
  {
   "cell_type": "markdown",
   "metadata": {
    "deletable": true,
    "editable": true
   },
   "source": [
    "## $\\delta_1$ vs $\\rho$"
   ]
  },
  {
   "cell_type": "code",
   "execution_count": null,
   "metadata": {
    "collapsed": false,
    "deletable": true,
    "editable": true
   },
   "outputs": [],
   "source": [
    "fig = plt.figure(figsize=(10, 8))\n",
    "ax = fig.add_subplot(111)\n",
    "img = ax.imshow(param_space.min(axis = (1, 2, 3, 5, 6, 7, 8)),\n",
    "                interpolation = 'nearest', origin = 'lower', vmin=min_val, vmax = max_val)\n",
    "ax.set_yticks(R.values())\n",
    "ax.set_yticklabels(R.keys())\n",
    "ax.set_xticks(D1.values())\n",
    "ax.set_xticklabels(['%.1e'%v for v in D1.keys()], rotation = 'vertical')\n",
    "ax.set_xlabel(r'$\\delta_1$', fontsize = 30)\n",
    "ax.set_ylabel(r'$\\rho $', fontsize = 30)\n",
    "fig.colorbar(img, ax =ax, orientation='vertical')\n",
    "fig.tight_layout()\n",
    "plt.savefig(output_folder_PS+'delta_vs_rho.pdf')"
   ]
  },
  {
   "cell_type": "markdown",
   "metadata": {
    "deletable": true,
    "editable": true
   },
   "source": [
    "## $\\delta_1$ vs $\\tau$"
   ]
  },
  {
   "cell_type": "code",
   "execution_count": null,
   "metadata": {
    "collapsed": false,
    "deletable": true,
    "editable": true
   },
   "outputs": [],
   "source": [
    "fig = plt.figure(figsize=(10, 10))\n",
    "ax = fig.add_subplot(111)\n",
    "img = ax.imshow(param_space.min(axis = (0, 2, 3, 5, 6, 7, 8)),\n",
    "                interpolation = 'nearest', origin = 'lower', vmin=min_val, vmax = max_val)\n",
    "ax.set_yticks(T.values())\n",
    "ax.set_yticklabels(T.keys())\n",
    "ax.set_xticks(D1.values())\n",
    "ax.set_xticklabels(['%.1e'%v for v in D1.keys()], rotation = 'vertical')\n",
    "ax.set_xlabel(r'$\\delta_1$', fontsize = 30)\n",
    "ax.set_ylabel(r'$\\tau $', fontsize = 30)\n",
    "fig.colorbar(img, ax =ax, orientation='vertical')\n",
    "fig.tight_layout()\n",
    "plt.savefig(output_folder_PS+'delta_vs_tau.pdf')"
   ]
  },
  {
   "cell_type": "markdown",
   "metadata": {
    "deletable": true,
    "editable": true
   },
   "source": [
    "## $\\delta_1$ vs $k_f.L_t$"
   ]
  },
  {
   "cell_type": "code",
   "execution_count": null,
   "metadata": {
    "collapsed": false,
    "deletable": true,
    "editable": true
   },
   "outputs": [],
   "source": [
    "fig = plt.figure(figsize=(10, 8))\n",
    "ax = fig.add_subplot(111)\n",
    "img = ax.imshow(param_space.min(axis = (0, 1, 2, 5, 6, 7, 8)),\n",
    "                interpolation = 'nearest', origin = 'lower', vmin=min_val, vmax = max_val)\n",
    "ax.set_yticks(KF.values())\n",
    "ax.set_yticklabels(['%.1e'%v for v in KF.keys()])\n",
    "ax.set_xticks(D1.values())\n",
    "ax.set_xticklabels(['%.1e'%v for v in D1.keys()], rotation = 'vertical')\n",
    "ax.set_xlabel(r'$\\delta_1$', fontsize = 30)\n",
    "ax.set_ylabel(r'$k_f L_t $', fontsize = 30)\n",
    "fig.colorbar(img, ax =ax, orientation='vertical')\n",
    "fig.tight_layout()\n",
    "plt.savefig(output_folder_PS+'delta_vs_kfLt.pdf')"
   ]
  },
  {
   "cell_type": "markdown",
   "metadata": {
    "deletable": true,
    "editable": true
   },
   "source": [
    "## $\\delta_1$ vs Integration time"
   ]
  },
  {
   "cell_type": "code",
   "execution_count": null,
   "metadata": {
    "collapsed": false,
    "deletable": true,
    "editable": true
   },
   "outputs": [],
   "source": [
    "fig = plt.figure(figsize=(10, 8))\n",
    "ax = fig.add_subplot(111)\n",
    "img = ax.imshow(param_space.min(axis = (0, 1, 3, 5, 6, 7, 8)),\n",
    "                interpolation = 'nearest', origin = 'lower', vmin=min_val, vmax = max_val)\n",
    "ax.set_yticks(I_T.values())\n",
    "ax.set_yticklabels(I_T.keys())\n",
    "ax.set_xticks(D1.values())\n",
    "ax.set_xticklabels(['%.1e'%v for v in D1.keys()], rotation = 'vertical')\n",
    "ax.set_xlabel(r'$\\delta_1$', fontsize = 30)\n",
    "ax.set_ylabel('Integration Time', fontsize = 30)\n",
    "fig.colorbar(img, ax =ax, orientation='vertical')\n",
    "fig.tight_layout()\n",
    "plt.savefig(output_folder_PS+'delta_vs_integration_time.pdf')"
   ]
  },
  {
   "cell_type": "markdown",
   "metadata": {
    "deletable": true,
    "editable": true
   },
   "source": [
    "## $\\delta_1$ vs $\\delta_{6,8}$"
   ]
  },
  {
   "cell_type": "code",
   "execution_count": null,
   "metadata": {
    "collapsed": false,
    "deletable": true,
    "editable": true
   },
   "outputs": [],
   "source": [
    "fig = plt.figure(figsize=(10, 8))\n",
    "ax = fig.add_subplot(111)\n",
    "img = ax.imshow(param_space.min(axis = (0, 1, 2, 3, 6, 7, 8)),\n",
    "                interpolation = 'nearest', origin = 'lower', vmin=min_val, vmax = max_val)\n",
    "ax.set_yticks(D1.values())\n",
    "ax.set_yticklabels(['%.1e'%v for v in D1.keys()], rotation = 'horizontal')\n",
    "ax.set_ylabel(r'$\\delta_1$', fontsize = 30)\n",
    "ax.set_xticks(D6.values())\n",
    "ax.set_xticklabels(['%.1e'%v for v in D6.keys()], rotation = 'vertical')\n",
    "ax.set_xlabel(r'$\\delta_{6, 8}$', fontsize = 30)\n",
    "fig.colorbar(img, ax =ax, orientation='vertical')\n",
    "fig.tight_layout()\n",
    "plt.savefig(output_folder_PS+'delta1_vs_delta6.pdf')"
   ]
  },
  {
   "cell_type": "markdown",
   "metadata": {
    "deletable": true,
    "editable": true
   },
   "source": [
    "## $\\delta_1$ VS $\\delta_{10}$"
   ]
  },
  {
   "cell_type": "code",
   "execution_count": null,
   "metadata": {
    "collapsed": false,
    "deletable": true,
    "editable": true
   },
   "outputs": [],
   "source": [
    "fig = plt.figure(figsize=(10, 8))\n",
    "ax = fig.add_subplot(111)\n",
    "img = ax.imshow(param_space.min(axis = (0, 1, 2, 3, 5, 6, 8)),\n",
    "                interpolation = 'nearest', origin = 'lower', vmin=min_val, vmax = max_val)\n",
    "ax.set_yticks(D1.values())\n",
    "ax.set_yticklabels(['%.1e'%v for v in D1.keys()], rotation = 'horizontal')\n",
    "ax.set_ylabel(r'$\\delta_{1}$', fontsize = 30)\n",
    "ax.set_xticks(D10.values())\n",
    "ax.set_xticklabels(['%.1e'%v for v in D10.keys()], rotation = 'vertical')\n",
    "ax.set_xlabel(r'$\\delta_{10}$', fontsize = 30)\n",
    "fig.colorbar(img, ax =ax, orientation='vertical')\n",
    "fig.tight_layout()\n",
    "plt.savefig(output_folder_PS+'delta1_vs_delta10.pdf')"
   ]
  },
  {
   "cell_type": "markdown",
   "metadata": {
    "deletable": true,
    "editable": true
   },
   "source": [
    "## $\\rho$ vs $\\alpha_R.k_e$"
   ]
  },
  {
   "cell_type": "code",
   "execution_count": null,
   "metadata": {
    "collapsed": false,
    "deletable": true,
    "editable": true
   },
   "outputs": [],
   "source": [
    "fig = plt.figure(figsize=(10, 8))\n",
    "ax = fig.add_subplot(111)\n",
    "img = ax.imshow(param_space.min(axis = (1, 2, 3, 4, 5, 6, 7)),\n",
    "                interpolation = 'nearest', origin = 'lower', vmin=min_val, vmax = max_val)\n",
    "ax.set_yticks(R.values())\n",
    "ax.set_yticklabels(['%.1f'%v for v in R.keys()], rotation = 'horizontal')\n",
    "ax.set_ylabel(r'$\\rho$', fontsize = 30)\n",
    "ax.set_xticks(ALPHA_KE.values())\n",
    "ax.set_xticklabels(['%.1e'%v for v in ALPHA_KE.keys()], rotation = 'vertical')\n",
    "ax.set_xlabel(r'$\\alpha_R.k_e$', fontsize = 30)\n",
    "fig.colorbar(img, ax =ax, orientation='vertical')\n",
    "fig.tight_layout()\n",
    "plt.savefig(output_folder_PS+'rho_vs_aRke.pdf')"
   ]
  },
  {
   "cell_type": "markdown",
   "metadata": {
    "deletable": true,
    "editable": true
   },
   "source": [
    "## $\\tau$ vs $\\alpha_R.k_e$"
   ]
  },
  {
   "cell_type": "code",
   "execution_count": null,
   "metadata": {
    "collapsed": false,
    "deletable": true,
    "editable": true
   },
   "outputs": [],
   "source": [
    "fig = plt.figure(figsize=(10, 8))\n",
    "ax = fig.add_subplot(111)\n",
    "img = ax.imshow(param_space.min(axis = (0, 2, 3, 4, 5, 6, 7)),\n",
    "                interpolation = 'nearest', origin = 'lower', vmin=min_val, vmax = max_val)\n",
    "ax.set_yticks(T.values())\n",
    "ax.set_yticklabels(['%d'%v for v in T.keys()], rotation = 'horizontal')\n",
    "ax.set_ylabel(r'$\\tau$', fontsize = 30)\n",
    "ax.set_xticks(ALPHA_KE.values())\n",
    "ax.set_xticklabels(['%.1e'%v for v in ALPHA_KE.keys()], rotation = 'vertical')\n",
    "ax.set_xlabel(r'$\\alpha_R.k_e$', fontsize = 30)\n",
    "fig.colorbar(img, ax =ax, orientation='vertical')\n",
    "fig.tight_layout()\n",
    "plt.savefig(output_folder_PS+'tau_vs_aRke.pdf')"
   ]
  },
  {
   "cell_type": "markdown",
   "metadata": {
    "deletable": true,
    "editable": true
   },
   "source": [
    "## Integration Time vs $\\alpha_R.k_e$"
   ]
  },
  {
   "cell_type": "code",
   "execution_count": null,
   "metadata": {
    "collapsed": false,
    "deletable": true,
    "editable": true
   },
   "outputs": [],
   "source": [
    "fig = plt.figure(figsize=(10, 8))\n",
    "ax = fig.add_subplot(111)\n",
    "img = ax.imshow(param_space.min(axis = (0, 1, 3, 4, 5, 6, 7)),\n",
    "                interpolation = 'nearest', origin = 'lower', vmin=min_val, vmax = max_val)\n",
    "ax.set_yticks(I_T.values())\n",
    "ax.set_yticklabels(['%d'%v for v in I_T.keys()], rotation = 'horizontal')\n",
    "ax.set_ylabel(r'Integration Time [s]', fontsize = 30)\n",
    "ax.set_xticks(ALPHA_KE.values())\n",
    "ax.set_xticklabels(['%.1e'%v for v in ALPHA_KE.keys()], rotation = 'vertical')\n",
    "ax.set_xlabel(r'$\\alpha_R.k_e$', fontsize = 30)\n",
    "fig.colorbar(img, ax =ax, orientation='vertical')\n",
    "fig.tight_layout()\n",
    "plt.savefig(output_folder_PS+'Integrationtime_vs_aRke.pdf')"
   ]
  },
  {
   "cell_type": "markdown",
   "metadata": {
    "deletable": true,
    "editable": true
   },
   "source": [
    "## $\\alpha_R.k_e$ vs $kf.L_T$"
   ]
  },
  {
   "cell_type": "code",
   "execution_count": null,
   "metadata": {
    "collapsed": false,
    "deletable": true,
    "editable": true
   },
   "outputs": [],
   "source": [
    "fig = plt.figure(figsize=(10, 8))\n",
    "ax = fig.add_subplot(111)\n",
    "img = ax.imshow(param_space.min(axis = (0, 1, 2, 4, 5, 6, 7)),\n",
    "                interpolation = 'nearest', origin = 'lower', vmin=min_val, vmax = max_val)\n",
    "ax.set_yticks(KF.values())\n",
    "ax.set_yticklabels(['%.1e'%v for v in KF.keys()], rotation = 'horizontal')\n",
    "ax.set_ylabel(r'$kf.L_T$', fontsize = 22)\n",
    "ax.set_xticks(ALPHA_KE.values())\n",
    "ax.set_xticklabels(['%.1e'%v for v in ALPHA_KE.keys()], rotation = 'vertical')\n",
    "ax.set_xlabel(r'$\\alpha_R.k_e$', fontsize = 22)\n",
    "fig.colorbar(img, ax =ax, orientation='vertical')\n",
    "fig.tight_layout()\n",
    "plt.savefig(output_folder_PS+'kfLt_vs_aRke.pdf')"
   ]
  },
  {
   "cell_type": "markdown",
   "metadata": {
    "deletable": true,
    "editable": true
   },
   "source": [
    "## $\\delta_1$ vs $\\alpha_R.k_e$"
   ]
  },
  {
   "cell_type": "code",
   "execution_count": null,
   "metadata": {
    "collapsed": false,
    "deletable": true,
    "editable": true
   },
   "outputs": [],
   "source": [
    "fig = plt.figure(figsize=(10, 8))\n",
    "ax = fig.add_subplot(111)\n",
    "img = ax.imshow(param_space.min(axis = (0, 1, 2, 3, 5, 6, 7)),\n",
    "                interpolation = 'nearest', origin = 'lower', vmin=min_val, vmax = max_val)\n",
    "ax.set_yticks(D1.values())\n",
    "ax.set_yticklabels(['%.1e'%v for v in D1.keys()], rotation = 'horizontal')\n",
    "ax.set_ylabel(r'$\\delta_1$', fontsize = 30)\n",
    "ax.set_xticks(ALPHA_KE.values())\n",
    "ax.set_xticklabels(['%.1e'%v for v in ALPHA_KE.keys()], rotation = 'vertical')\n",
    "ax.set_xlabel(r'$\\alpha_R.k_e$', fontsize = 30)\n",
    "fig.colorbar(img, ax =ax, orientation='vertical')\n",
    "fig.tight_layout()\n",
    "plt.savefig(output_folder_PS+'delta1_vs_aRke.pdf')"
   ]
  },
  {
   "cell_type": "markdown",
   "metadata": {
    "deletable": true,
    "editable": true
   },
   "source": [
    "## $\\delta_{6,8}$ vs $\\alpha_R.k_e$"
   ]
  },
  {
   "cell_type": "code",
   "execution_count": null,
   "metadata": {
    "collapsed": false,
    "deletable": true,
    "editable": true
   },
   "outputs": [],
   "source": [
    "fig = plt.figure(figsize=(10, 8))\n",
    "ax = fig.add_subplot(111)\n",
    "img = ax.imshow(param_space.min(axis = (0, 1, 2, 3, 4, 6, 7)),\n",
    "                interpolation = 'nearest', origin = 'lower', vmin=min_val, vmax = max_val)\n",
    "ax.set_yticks(D6.values())\n",
    "ax.set_yticklabels(['%.1e'%v for v in D6.keys()], rotation = 'horizontal')\n",
    "ax.set_ylabel(r'$\\delta_{6,8}$', fontsize = 30)\n",
    "ax.set_xticks(ALPHA_KE.values())\n",
    "ax.set_xticklabels(['%.1e'%v for v in ALPHA_KE.keys()], rotation = 'vertical')\n",
    "ax.set_xlabel(r'$\\alpha_R.k_e$', fontsize = 30)\n",
    "fig.colorbar(img, ax =ax, orientation='vertical')\n",
    "fig.tight_layout()\n",
    "plt.savefig(output_folder_PS+'delta6_vs_aRke.pdf')"
   ]
  },
  {
   "cell_type": "markdown",
   "metadata": {
    "deletable": true,
    "editable": true
   },
   "source": [
    "## $\\delta_{10}$ vs $\\alpha_R.k_e$"
   ]
  },
  {
   "cell_type": "code",
   "execution_count": null,
   "metadata": {
    "collapsed": false,
    "deletable": true,
    "editable": true
   },
   "outputs": [],
   "source": [
    "fig = plt.figure(figsize=(10, 8))\n",
    "ax = fig.add_subplot(111)\n",
    "img = ax.imshow(param_space.min(axis = (0, 1, 2, 3, 4, 5, 6)),\n",
    "                interpolation = 'nearest', origin = 'lower', vmin=min_val, vmax = max_val)\n",
    "ax.set_yticks(D10.values())\n",
    "ax.set_yticklabels(['%.1e'%v for v in D10.keys()], rotation = 'horizontal')\n",
    "ax.set_ylabel(r'$\\delta_{10}$', fontsize = 30)\n",
    "ax.set_xticks(ALPHA_KE.values())\n",
    "ax.set_xticklabels(['%.1e'%v for v in ALPHA_KE.keys()], rotation = 'vertical')\n",
    "ax.set_xlabel(r'$\\alpha_R.k_e$', fontsize = 30)\n",
    "fig.colorbar(img, ax =ax, orientation='vertical')\n",
    "fig.tight_layout()\n",
    "plt.savefig(output_folder_PS+'delta10_vs_aRke.pdf')"
   ]
  },
  {
   "cell_type": "markdown",
   "metadata": {
    "deletable": true,
    "editable": true
   },
   "source": [
    "## Plots of the distribution of the $E^\\star$"
   ]
  },
  {
   "cell_type": "code",
   "execution_count": null,
   "metadata": {
    "collapsed": true,
    "deletable": true,
    "editable": true
   },
   "outputs": [],
   "source": [
    "test_model = InteractionModel(lin_tree, surf_ex, couples, low_th, hi_th, ratio_th,\n",
    "                              kfLt, cells_to_find_induction, fates2, names, fates3_names,\n",
    "                              sim_nv, vol, surfaces, gene_expression,gene_affect_neighb, \n",
    "                              gene_affect_self, inv_lin_tree, pathways, stages,gene_effect,\n",
    "                              ground_truth, ground_truth_pw, time_end=time_end, grey_zone = cells_in_grey,\n",
    "                              integration_time = 600, dt = dt, delta = delta,\n",
    "                              sim_ratio_th=.10, rand = True, ratio_noise = 0, alphaR_ke = aRke,\n",
    "                              z_c_end=z_c_end, begin=begin, end=end, known_interactions = known_interactions,\n",
    "                              size_increase = 1., ERK_delta = True)\n",
    "distribution_per_pw = {}\n",
    "for di in test_model.gene_repartition.itervalues():\n",
    "    for dii in di.itervalues():\n",
    "        for pw, v in dii.iteritems():\n",
    "            if v != 0:\n",
    "                distribution_per_pw.setdefault(pw[0], []).append(v)\n",
    "\n",
    "output_folder_E_star = output_folder + 'E_cumm_hist/'\n",
    "if not os.path.exists(output_folder_E_star):\n",
    "    os.mkdir(output_folder_E_star)"
   ]
  },
  {
   "cell_type": "code",
   "execution_count": null,
   "metadata": {
    "collapsed": false,
    "deletable": true,
    "editable": true,
    "scrolled": false
   },
   "outputs": [],
   "source": [
    "for pw, d in distribution_per_pw.iteritems():\n",
    "    if not 'ERK' in pw and not 'tolloid' in pw and not '-' in pw:\n",
    "        fig = plt.figure(figsize=(10, 8))\n",
    "        ax = fig.add_subplot(111)\n",
    "        tmp = ax.hist(d, normed=True, cumulative=True,\n",
    "                      bins = 10000, #range=(0, 2.5*10**9),\n",
    "                      histtype='step', lw=3, alpha=.6, color = 'k')\n",
    "        y_v = np.min(tmp[0][tmp[0]>=low_th/100.])\n",
    "        x_v = np.min(tmp[1][1:][tmp[0]>=low_th/100.])\n",
    "        ax.plot([0, x_v], [y_v, y_v], 'r-', lw=4, alpha = .5)\n",
    "        ax.plot([x_v, x_v], [0, y_v], 'r-', lw=4, alpha = .5)\n",
    "        ax.set_title(pw[:-1], fontsize = 25)\n",
    "        ax.set_ylim(0, 1)\n",
    "        ax.set_xlim(0, np.max(d))\n",
    "        ax.set_yticks(sorted([0, .5, 1.] + [y_v]))\n",
    "        ax.set_xticks(sorted([np.max(d)/2, np.max(d)] + [x_v]))\n",
    "        ax.set_yticklabels([0, r'$\\tau$', 50, 100], fontsize=25)\n",
    "        ax.set_xticklabels((('$\\overline{E}^*_{min}=$\\n$%.0e$ '%x_v\\\n",
    "                             +('%.0e '*2)%tuple(sorted([np.max(d)/2, np.max(d)])))).split(' '))\n",
    "        ax.tick_params(axis='y', which='both', labelsize=20)\n",
    "        ax.tick_params(axis='x', which='both', labelsize=20)\n",
    "        # ax.ticklabel_format(style='sci', axis='x', scilimits=(0,0), labelsize=20)\n",
    "        ax.set_xlabel('$\\overline{E}^*($' + pw[:-1] + '$)$', fontsize=25)\n",
    "        ax.set_ylabel('% of cells with effector values $< E^*$', fontsize=25)\n",
    "        fig.tight_layout()\n",
    "        plt.savefig(output_folder_E_star + 'Estar_distrib' + pw[:-1] + '.pdf')"
   ]
  },
  {
   "cell_type": "code",
   "execution_count": null,
   "metadata": {
    "collapsed": false,
    "deletable": true,
    "editable": true
   },
   "outputs": [],
   "source": [
    "# pw = 'ERK+'\n",
    "d = distribution_per_pw['ERK+']\n",
    "fig = plt.figure(figsize=(10, 8))\n",
    "ax = fig.add_subplot(111)\n",
    "tmp = ax.hist(d, normed=True, cumulative=True,\n",
    "              bins = 10000, range=(0, 1.8),\n",
    "              histtype='step', lw=3, alpha=.6, color = 'k')\n",
    "y_v = np.min(tmp[0][tmp[0]>=low_th/100.])\n",
    "x_v = np.min(tmp[1][1:][tmp[0]>=low_th/100.])\n",
    "ax.plot([0, x_v], [y_v, y_v], 'r-', lw=4, alpha = .5)\n",
    "ax.plot([x_v, x_v], [0, y_v], 'r-', lw=4, alpha = .5) \n",
    "ax.set_title('Ras', fontsize = 25)\n",
    "ax.set_ylim(0, 1)\n",
    "ax.set_xlim(np.min(tmp[1]), tmp[1][np.min(np.where(tmp[0]>.9999))])\n",
    "ax.set_yticks(sorted([0, .5, 1.] + [y_v]))\n",
    "d = tmp[1][:np.min(np.where(tmp[0]>.9999))]\n",
    "ax.set_xticks(sorted([np.max(d)/2, np.max(d)] + [x_v]))\n",
    "ax.set_xticklabels(('$E^\\star_{min}$ '+('%.0e '*2)%tuple(sorted([np.max(d)/2, np.max(d)]))).split())\n",
    "ax.set_yticklabels([0, r'$\\tau$', 50, 100], fontsize=25)\n",
    "# ax.tick_params(axis='y', which='major', labelsize=20)\n",
    "ax.tick_params(axis='x', which='major', labelsize=20)\n",
    "ax.set_xlabel(r'$RasGTP$', fontsize=25)\n",
    "ax.set_ylabel('% of cells with effector values $< RasGTP$', fontsize=25)\n",
    "fig.tight_layout()\n",
    "plt.savefig(output_folder_E_star + 'Estar_distrib' + pw[:-1] + '.pdf')"
   ]
  },
  {
   "cell_type": "markdown",
   "metadata": {
    "deletable": true,
    "editable": true
   },
   "source": [
    "## Combined plots of the different model included in the main paper"
   ]
  },
  {
   "cell_type": "code",
   "execution_count": null,
   "metadata": {
    "collapsed": true,
    "deletable": true,
    "editable": true
   },
   "outputs": [],
   "source": [
    "reload(ClassModel)\n",
    "InteractionModel = ClassModel.InteractionModel\n",
    "begin = 2\n",
    "end = 15\n",
    "model = InteractionModel(lin_tree, surf_ex, couples, low_th, hi_th, ratio_th,\n",
    "                              kfLt, cells_to_find_induction, fates2, names, fates3_names,\n",
    "                              sim_nv, vol, surfaces, gene_expression, gene_affect_neighb, \n",
    "                              gene_affect_self, inv_lin_tree, pathways, stages,gene_effect,\n",
    "                              ground_truth, ground_truth_pw, time_end=time_end, grey_zone = cells_in_grey,\n",
    "                              integration_time = integration_time, dt = dt, delta = delta,\n",
    "                              sim_ratio_th=.10, rand = False, ratio_noise = 0, alphaR_ke = aRke,\n",
    "                              z_c_end=z_c_end, begin=begin, end=end, known_interactions = known_interactions,\n",
    "                              basic_euler = False, size_increase = 1., ERK_delta = True)\n",
    "\n",
    "model.run()\n",
    "\n",
    "gene_expression_no_Eph = {}\n",
    "for k, v in gene_expression.iteritems():\n",
    "    if not 'ERK-' in k:\n",
    "        gene_expression_no_Eph[k] = v\n",
    "model_no_eph = InteractionModel(lin_tree, surf_ex, couples, low_th, hi_th, ratio_th,\n",
    "                              kfLt, cells_to_find_induction, fates2, names, fates3_names,\n",
    "                              sim_nv, vol, surfaces, gene_expression_no_Eph, gene_affect_neighb, \n",
    "                              gene_affect_self, inv_lin_tree, pathways, stages,gene_effect,\n",
    "                              ground_truth, ground_truth_pw, time_end=time_end, grey_zone = cells_in_grey,\n",
    "                              integration_time = integration_time, dt = dt, delta = delta,\n",
    "                              sim_ratio_th=.10, rand = False, ratio_noise = 0, alphaR_ke = aRke,\n",
    "                              z_c_end=z_c_end, begin=begin, end=end, known_interactions = known_interactions,\n",
    "                              basic_euler = False, size_increase = 1., ERK_delta = True,\n",
    "                              max_E_for_induction = model.max_E_for_induction,\n",
    "                              min_E_for_uninduction = model.min_E_for_uninduction,\n",
    "                              gene_cat_low = model.gene_cat_low)\n",
    "\n",
    "model_no_eph.run()\n",
    "\n",
    "(ratio_th_no_surf, low_th_no_surf,\n",
    " hi_th_no_surf, integration_time_no_surf,\n",
    " kfLt_val_no_surf, delta1_no_surf, delta6_no_surf,\n",
    " delta8_no_surf, delta10_no_surf, aRke_no_surf) = (2.2, 38, 100, 600, 0.0001, 10.0, 0.001, \n",
    "                                                   0.001, 0.10000000000000001, 9.9999999999999995e-07)\n",
    "\n",
    "kfLt_no_surf = {k:kfLt_val_no_surf for k in gene_expression.iterkeys()}\n",
    "delta_no_surf = [delta1_no_surf, delta6_no_surf, delta8_no_surf, delta10_no_surf]\n",
    "\n",
    "model_no_surf = InteractionModel(lin_tree, surf_ex, couples, low_th_no_surf, hi_th_no_surf, ratio_th_no_surf,\n",
    "                              kfLt_no_surf, cells_to_find_induction, fates2, names, fates3_names,\n",
    "                              sim_nv, vol, surfaces, gene_expression,gene_affect_neighb, \n",
    "                              gene_affect_self, inv_lin_tree, pathways, stages,gene_effect,\n",
    "                              ground_truth, ground_truth_pw, time_end=time_end, grey_zone = cells_in_grey,\n",
    "                              delta = delta_no_surf,take_surf = False, alphaR_ke = aRke_no_surf,\n",
    "                              integration_time = integration_time_no_surf, dt = 2, sim_ratio_th=.10,\n",
    "                              rand = False, ratio_noise = 0, z_c_end=z_c_end, begin=2, end=15,\n",
    "                              basic_euler = False, size_increase = 1., ERK_delta = True)\n",
    "\n",
    "model_no_surf.run()\n",
    "\n",
    "f = open('DATA/output_rnd_exp_pat.pkl')\n",
    "data_rnd = pkl.load(f)\n",
    "f.close()\n",
    "avg = np.mean(data_rnd, axis = 1)\n",
    "found = avg[5] - avg[4]\n",
    "missed = avg[4]\n",
    "avg[4] = found\n",
    "avg[5] = missed\n",
    "std = np.std(data_rnd, axis = 1)\n",
    "found = std[5] - std[4]\n",
    "missed = std[4]\n",
    "std[4] = found\n",
    "std[5] = missed\n",
    "\n",
    "output_folder_main_fig = output_folder + 'Main-figures/'\n",
    "if not os.path.exists(output_folder_main_fig):\n",
    "    os.mkdir(output_folder_main_fig)\n",
    "if not os.path.exists(output_folder_main_fig + 'noise/'):\n",
    "    os.mkdir(output_folder_main_fig + 'noise/')"
   ]
  },
  {
   "cell_type": "code",
   "execution_count": null,
   "metadata": {
    "collapsed": false,
    "deletable": true,
    "editable": true
   },
   "outputs": [],
   "source": [
    "def plot_model_results_hor(model, init_pos, nb, ax, col, space = 2, values = None, error_bars = None, hatch = ''):\n",
    "    if values is None:\n",
    "        a, b, c, d, e, f = model.retrieve_the_cat()\n",
    "    else:\n",
    "        a, b, c, d, e, f = values\n",
    "    p1 = init_pos + .2\n",
    "    p2 = init_pos + .2\n",
    "    ax.barh(p1, a/float(a+b)*100-1, left = 1, height = 1.6, color = cm.Paired(.4), lw = 2)\n",
    "    ax.barh(p2, -e/float(e+f)*100+1, left = -1, height = 1.6, color = cm.Paired(0), lw = 2)\n",
    "    if not error_bars is None:\n",
    "        ax.errorbar([a/float(a+b)*100, -e/float(e+f)*100], [p1, p2],\n",
    "                    xerr=[error_bars[0], error_bars[4]], fmt='none', ecolor='k', linewidth=3, mew=3, alpha = .7)\n",
    "\n",
    "\n",
    "import matplotlib\n",
    "import mpl_toolkits.axisartist as axisartist\n",
    "font = {'family' : 'normal',\n",
    "          'weight' : 'normal',\n",
    "          'size'   : 32}\n",
    "matplotlib.rc('font', **font)\n",
    "\n",
    "fig = plt.figure(figsize=(11, 8.5))\n",
    "ax = axisartist.Subplot(fig, 111)\n",
    "# ax = fig.add_subplot(111)\n",
    "fig.add_subplot(ax)\n",
    "plot_model_results_hor(model, 7.8, 4, ax, col = 'b')\n",
    "plot_model_results_hor(model_no_eph, 1.8, 4, ax, col = 'm')\n",
    "plot_model_results_hor(model_no_surf, 3.8, 4, ax, col = 'y')\n",
    "plot_model_results_hor(None, 5.8, 4, ax, col = 'c', error_bars=std, values=avg)\n",
    "ax.bar(0, 0, color = cm.Paired(0), label = '% of known induction events predicted')\n",
    "ax.bar(0, 0, color = cm.Paired(.4), label = '% of over prediction')\n",
    "ax.legend(loc = 'upper left', fontsize = 25)\n",
    "ax.tick_params(axis='both', which='major', labelsize=20)\n",
    "ax.set_ylim(1, 11)\n",
    "ax.set_yticks([2, 4, 6, 8])\n",
    "ax.set_yticklabels([\"Eph -\", \"Constant #receptor\\n@cell-cell interface\", \"Gene expression\\nrandomization\", \"WT\"])\n",
    "ax.set_xticks(range(-100, 101, 20))\n",
    "ax.set_xticklabels(['%d'%v for v in range(100, 0, -20) + range(0, 101, 20)])\n",
    "ax.set_xlim(-115, 40)\n",
    "ax.set_xlabel('Percentage', fontsize = 40)\n",
    "ax.axis['left'].major_ticks.set_tick_out(True)\n",
    "ax.axis['left'].invert_ticklabel_direction()\n",
    "fig.tight_layout()\n",
    "plt.savefig(output_folder_main_fig + 'Global-output.pdf')\n",
    "plt.sty"
   ]
  },
  {
   "cell_type": "code",
   "execution_count": null,
   "metadata": {
    "collapsed": false,
    "deletable": true,
    "editable": true
   },
   "outputs": [],
   "source": [
    "f = open('DATA/output_rand_surf.pkl')\n",
    "FP_noise_mem_T, FN_noise_mem_T, MISSED_L_noise_mem_T, C_P_M, IND_noise_mem_T = pkl.load(f)\n",
    "f.close()\n",
    "\n",
    "nb_runs = 96.\n",
    "X_mem = list(np.arange(0, 31, 2.))\n",
    "fig = plt.figure(figsize=(11, 6.8))\n",
    "ax = fig.add_subplot(111)\n",
    "plot_box_like_distrib(X_mem, MISSED_L_noise_mem_T, ax, 0, 'o',\n",
    "                      '% of known induction\\nevents predicted', max_val=31, div = 14., reverse = True)[0]\n",
    "ax.set_xlabel('% of noise in cell-cell\\ncontact area (average)', fontsize = 35)\n",
    "# ax.legend(loc = 'lower left', fontsize = 30)\n",
    "ax.tick_params(axis='both', which='major', labelsize=30)\n",
    "ax.set_ylabel('% of known induction\\nevents predicted', fontsize = 35)\n",
    "ax.set_xlim(-1, 24)\n",
    "ax.set_ylim(60, 100)\n",
    "fig.tight_layout()\n",
    "fig.savefig(output_folder_main_fig + 'random_missed_lig.pdf')\n",
    "\n",
    "from natsort import natsorted\n",
    "# viridis = cm.viridis\n",
    "t_c = np.max(X_mem)\n",
    "for amp, C_P_M_tmp in C_P_M.iteritems():\n",
    "    if amp == 20:\n",
    "        fig = plt.figure(figsize=(11, 6.8))\n",
    "        ax = fig.add_subplot(111)\n",
    "        keys_s = [k for k in natsorted(C_P_M_tmp)]# if k != ('a6.4', 'Nodal+', 'Nodal+', 'Stage 8')]\n",
    "        v_sorted = np.array([C_P_M_tmp[k] for k in keys_s])\n",
    "        # ax.plot(100*v_sorted/200., 'o', color = 'k')#viridis(amp/t_c))\n",
    "        ax.bar(np.arange(-0.5, 13.5, 1), 100*v_sorted/nb_runs, color = cm.Paired(0))\n",
    "        ax.set_ylim(0, 70)\n",
    "        ax.set_xlim(-1, 13)\n",
    "        ax.set_yticks(range(0, 71, 20))\n",
    "        ax.set_xticks(np.arange(-.5, 13, 1))\n",
    "        ax.set_xticklabels([k[0] + ', ' + k[1][:-1] + ', ' + 'S' + k[3].split(' ')[-1] for k in keys_s],\n",
    "                           rotation = 'vertical', fontsize = 30)\n",
    "\n",
    "        ax.tick_params(axis = 'y', labelsize = 30)\n",
    "        ax.set_ylabel('% of time\\nmissed', fontsize = 35)\n",
    "        ax.set_title('Average noise amplitude of 20%', fontsize = 35)\n",
    "        fig.tight_layout()\n",
    "        fig.savefig(output_folder_main_fig + 'noise/Number_of_missed_pairs_amp_%d.pdf'%amp)\n",
    "        if amp != 20:\n",
    "            plt.clf()\n"
   ]
  },
  {
   "cell_type": "code",
   "execution_count": null,
   "metadata": {
    "collapsed": false,
    "deletable": true,
    "editable": true
   },
   "outputs": [],
   "source": [
    "f = open('DATA/size_scaling5.1.pkl')\n",
    "FP_size, FN_size, MISSED_L_size, COORD_size = pkl.load(f)\n",
    "f.close()\n",
    "from matplotlib import ticker\n",
    "si_vals = (np.log10(.25), np.log10(4), 10)\n",
    "X = sorted(set([1.] + list(np.logspace(*si_vals))))\n",
    "\n",
    "fig = plt.figure(figsize=(10, 6))\n",
    "ax = fig.add_subplot(111)\n",
    "ax.plot(X, 100*FP_size/56., 'o-', lw=2, c = cm.Paired(.4),\n",
    "        label = '% of over predictions', ms = 8)\n",
    "# ax.plot(X, 100*FN_size/18., 'o--', lw=2, alpha = .5, label = 'Missed inductions')\n",
    "ax.plot(X, 100-100*MISSED_L_size/14., 'o-', lw=2, c = cm.Paired(0), \n",
    "        label = '% of known induction events predicted', ms = 8)\n",
    "ax.legend(loc='center left', fontsize = 20)\n",
    "ax.set_xlabel('Scaling factor cell-cell contact area', fontsize = 25)\n",
    "ax.set_ylabel('percentage', fontsize = 25)\n",
    "ax.set_xscale('log')\n",
    "ax.tick_params(axis = 'both', labelsize = 20)\n",
    "ax.set_xlim((.23,4.5))\n",
    "# ax.set_ylim((0, 30))\n",
    "ax.set_xticks([.25, .5, 1, 2, 4])\n",
    "ax.get_xaxis().set_major_formatter(ticker.ScalarFormatter())\n",
    "ax.set_ylim(0, 105)\n",
    "fig.tight_layout()\n",
    "fig.savefig(output_folder_main_fig + 'size_variation.pdf')\n"
   ]
  },
  {
   "cell_type": "code",
   "execution_count": null,
   "metadata": {
    "collapsed": false,
    "deletable": true,
    "editable": true
   },
   "outputs": [],
   "source": [
    "f = open('DATA/size_scaling_const_teta5.1.pkl')\n",
    "FP_size, FN_size, MISSED_L_size, COORD_size = pkl.load(f)\n",
    "f.close()\n",
    "from matplotlib import ticker\n",
    "si_vals = (np.log10(.25), np.log10(4), 10)\n",
    "X = sorted(set([1.] + list(np.logspace(*si_vals))))\n",
    "\n",
    "fig = plt.figure(figsize=(10, 6))\n",
    "ax = fig.add_subplot(111)\n",
    "ax.plot(X, [COORD_size[k][4] for k in X], 'o-', lw=2, c = cm.Paired(.79),\n",
    "        label = '', ms = 8)\n",
    "# ax.legend(loc='center left', fontsize = 20)\n",
    "ax.set_xlabel('Scaling factor cell-cell contact area', fontsize = 25)\n",
    "ax.set_ylabel(r'Optimal $k_f.L_T$', fontsize = 25)\n",
    "ax.set_xscale('log')\n",
    "ax.set_yscale('log')\n",
    "ax.tick_params(axis = 'both', labelsize = 20)\n",
    "ax.set_xlim((.23,4.5))\n",
    "ax.set_xticks([.25, .5, 1, 2, 4])\n",
    "ax.get_xaxis().set_major_formatter(ticker.ScalarFormatter())\n",
    "yrange_vals = np.logspace(-1, -10, 19)[4:8]\n",
    "ax.set_ylim((yrange_vals[-1]/2, yrange_vals[0]*2))\n",
    "ax.set_yticks(yrange_vals)\n",
    "ax.set_yticklabels((('%.1e '*4)%tuple(yrange_vals)).split(' ')[:-1])\n",
    "fig.tight_layout()\n",
    "fig.savefig(output_folder_main_fig + 'kfLt_for_teta_fixed.pdf')"
   ]
  },
  {
   "cell_type": "markdown",
   "metadata": {
    "deletable": true,
    "editable": true
   },
   "source": [
    "# Different variations of the model:\n",
    "Ephrin Knock out, Constant number of receptors, randomization of the surface of contact, randomization of the expression, scaling of the surface of contact."
   ]
  },
  {
   "cell_type": "code",
   "execution_count": null,
   "metadata": {
    "collapsed": false,
    "deletable": true,
    "editable": true,
    "scrolled": false
   },
   "outputs": [],
   "source": [
    "output_folder_no_eph = 'Model-Output-Mutants-'+date.today().isoformat()+'/eph-/'\n",
    "output_folder_no_surf = 'Model-Output-Mutants-'+date.today().isoformat()+'/const-rec/'\n",
    "output_folder_rnd_surf = 'Model-Output-Mutants-'+date.today().isoformat()+'/rnd_surf/'\n",
    "output_folder_rnd_exp = 'Model-Output-Mutants-'+date.today().isoformat()+'/rnd_exp/'\n",
    "output_folder_surf_inc = 'Model-Output-Mutants-'+date.today().isoformat()+'/surf_inc/'\n",
    "\n",
    "produce_basic_model_results(output_folder_no_eph, model_no_eph, [], [], \n",
    "                            cells_to_find_induction, cells_in_grey, 'Eph -')\n",
    "produce_basic_model_results(output_folder_no_surf, model_no_surf, [], [],\n",
    "                            cells_to_find_induction, cells_in_grey, 'Constant #receptor @cell-cell interface')\n",
    "\n",
    "model_rnd_surf = InteractionModel(lin_tree, surf_ex, couples, low_th, hi_th, ratio_th,\n",
    "                              kfLt, cells_to_find_induction, fates2, names, fates3_names,\n",
    "                              sim_nv, vol, surfaces, gene_expression, gene_affect_neighb, \n",
    "                              gene_affect_self, inv_lin_tree, pathways, stages,gene_effect,\n",
    "                              ground_truth, ground_truth_pw, time_end=time_end, grey_zone = cells_in_grey,\n",
    "                              integration_time = integration_time, dt = dt, delta = delta,\n",
    "                              sim_ratio_th=.10, rand = True, ratio_noise = 20., alphaR_ke = aRke,\n",
    "                              z_c_end=z_c_end, begin=begin, end=end, known_interactions = known_interactions,\n",
    "                              basic_euler = False, size_increase = 1., ERK_delta = True,\n",
    "                                 min_E_for_uninduction = model.min_E_for_uninduction,\n",
    "                                 max_E_for_induction = model.max_E_for_induction)\n",
    "model_rnd_surf.run()\n",
    "produce_basic_model_results(output_folder_rnd_surf, model_rnd_surf, [], [],\n",
    "                            cells_to_find_induction, cells_in_grey, '20% noise in cell-cell contact area')\n",
    "\n",
    "gene_expression_rand = {k:set([randomize_name(n) for n in v]) for k, v in gene_expression.iteritems()}\n",
    "model_rnd_exp = InteractionModel(lin_tree, surf_ex, couples, low_th, hi_th, ratio_th,\n",
    "                              kfLt, cells_to_find_induction, fates2, names, fates3_names,\n",
    "                              sim_nv, vol, surfaces, gene_expression_rand, gene_affect_neighb, \n",
    "                              gene_affect_self, inv_lin_tree, pathways, stages,gene_effect,\n",
    "                              ground_truth, ground_truth_pw, time_end=time_end, grey_zone = cells_in_grey,\n",
    "                              integration_time = integration_time, dt = dt, delta = delta,\n",
    "                              sim_ratio_th=.10, rand = True, ratio_noise = 20., alphaR_ke = aRke,\n",
    "                              z_c_end=z_c_end, begin=begin, end=end, known_interactions = known_interactions,\n",
    "                              basic_euler = False, size_increase = 1., ERK_delta = True)\n",
    "model_rnd_exp.run()\n",
    "produce_basic_model_results(output_folder_rnd_exp, model_rnd_exp, [], [],\n",
    "                            cells_to_find_induction, cells_in_grey, 'Randomized gene expression')"
   ]
  },
  {
   "cell_type": "code",
   "execution_count": null,
   "metadata": {
    "collapsed": false,
    "deletable": true,
    "editable": true
   },
   "outputs": [],
   "source": [
    "f = open('DATA/size_scaling5.1.pkl')\n",
    "FP_size, FN_size, MISSED_L_size, COORD_size = pkl.load(f)\n",
    "f.close()\n",
    "(ratio_th_size, low_th_size, hi_th_size,\n",
    " integration_time_size, kfLt_val_size, delta1_size,\n",
    " delta6_size, delta8_size, delta10_size, aRke_size) = COORD_size[4.]\n",
    "\n",
    "kfLt_size = {k:kfLt_val_size for k in kfLt.keys()}\n",
    "delta_size = [delta1_size, delta6_size, delta8_size, delta10_size]\n",
    "\n",
    "model_surf_inc = InteractionModel(lin_tree, surf_ex, couples, low_th_size, hi_th_size, ratio_th_size,\n",
    "                              kfLt_size, cells_to_find_induction, fates2, names, fates3_names,\n",
    "                              sim_nv, vol, surfaces, gene_expression, gene_affect_neighb, \n",
    "                              gene_affect_self, inv_lin_tree, pathways, stages,gene_effect,\n",
    "                              ground_truth, ground_truth_pw, time_end=time_end, grey_zone = cells_in_grey,\n",
    "                              integration_time = integration_time_size, dt = dt, delta = delta_size,\n",
    "                              sim_ratio_th=.10, rand = False, ratio_noise = 20., alphaR_ke = aRke_size,\n",
    "                              z_c_end=z_c_end, begin=begin, end=end, known_interactions = known_interactions,\n",
    "                              basic_euler = False, size_increase = 4., ERK_delta = True)\n",
    "model_surf_inc.run()\n",
    "\n",
    "produce_basic_model_results(output_folder_surf_inc, model_surf_inc, [], [],\n",
    "                            cells_to_find_induction, cells_in_grey, r'$4\\times$ scaling')\n",
    "\n"
   ]
  },
  {
   "cell_type": "markdown",
   "metadata": {
    "deletable": true,
    "editable": true
   },
   "source": [
    "# Model version with no antagonist expression"
   ]
  },
  {
   "cell_type": "code",
   "execution_count": null,
   "metadata": {
    "collapsed": true,
    "deletable": true,
    "editable": true
   },
   "outputs": [],
   "source": [
    "reload(ClassModel)\n",
    "InteractionModel = ClassModel.InteractionModel\n",
    "#### Here you can manually change the different parameters.\n",
    "ratio_th, low_th, hi_th, integration_time, kfLt_val, delta1, delta6, delta8, delta10, aRke = values[2]\n",
    "delta6, delta8 = 0.05, 0.05\n",
    "delta = [delta1, delta6, delta8, delta10]\n",
    "# ratio_th = 1.6\n",
    "## THESE ARE THE COMMENTED EXAMPLES\n",
    "# delta = 1e11 ### If this is uncommented it will set the delta to 1e11 for the next run\n",
    "# kfLt_val = 1e-6 ### If this is uncommented it will set the kfLt to 1e-6 for the next run\n",
    "\n",
    "gene_expression_no_minus = {}\n",
    "for k, v in gene_expression.iteritems():\n",
    "    if not '-' in k[0]:\n",
    "        gene_expression_no_minus[k] = v\n",
    "        \n",
    "kfLt = {k:kfLt_val for k in gene_expression.iterkeys()}\n",
    "begin = 2\n",
    "end = 15\n",
    "model_no_minus = InteractionModel(lin_tree, surf_ex, couples, low_th, hi_th, ratio_th,\n",
    "                              kfLt, cells_to_find_induction, fates2, names, fates3_names,\n",
    "                              sim_nv, vol, surfaces, gene_expression_no_minus,gene_affect_neighb, \n",
    "                              gene_affect_self, inv_lin_tree, pathways, stages,gene_effect,\n",
    "                              ground_truth, ground_truth_pw, time_end = time_end, grey_zone = cells_in_grey,\n",
    "                              integration_time = integration_time, dt = dt, delta = delta,\n",
    "                              sim_ratio_th=.10, rand = True, ratio_noise = 0, alphaR_ke = aRke,\n",
    "                              z_c_end=z_c_end, begin=begin, end=end, known_interactions = known_interactions,\n",
    "                              size_increase = 1., ERK_delta = False)\n",
    "model_no_minus.run()"
   ]
  },
  {
   "cell_type": "markdown",
   "metadata": {
    "deletable": true,
    "editable": true
   },
   "source": [
    "# Model variation with no ratio between ERK and Eph applyied\n",
    "It is necessary to access these two values independently"
   ]
  },
  {
   "cell_type": "code",
   "execution_count": null,
   "metadata": {
    "collapsed": true,
    "deletable": true,
    "editable": true
   },
   "outputs": [],
   "source": [
    "reload(ClassModel)\n",
    "InteractionModel = ClassModel.InteractionModel\n",
    "#### Here you can manually change the different parameters.\n",
    "ratio_th, low_th, hi_th, integration_time, kfLt_val, delta1, delta6, delta8, delta10, aRke = values[2]\n",
    "delta6, delta8 = 0.05, 0.05\n",
    "delta = [delta1, delta6, delta8, delta10]\n",
    "# ratio_th = 1.6\n",
    "## THESE ARE THE COMMENTED EXAMPLES\n",
    "# delta = 1e11 ### If this is uncommented it will set the delta to 1e11 for the next run\n",
    "# kfLt_val = 1e-6 ### If this is uncommented it will set the kfLt to 1e-6 for the next run\n",
    "\n",
    "kfLt = {k:kfLt_val for k in gene_expression.iterkeys()}\n",
    "begin = 2\n",
    "end = 15\n",
    "model_no_delta = InteractionModel(lin_tree, surf_ex, couples, low_th, hi_th, ratio_th,\n",
    "                              kfLt, cells_to_find_induction, fates2, names, fates3_names,\n",
    "                              sim_nv, vol, surfaces, gene_expression,gene_affect_neighb, \n",
    "                              gene_affect_self, inv_lin_tree, pathways, stages,gene_effect,\n",
    "                              ground_truth, ground_truth_pw, time_end = time_end, grey_zone = cells_in_grey,\n",
    "                              integration_time = integration_time, dt = dt, delta = delta,\n",
    "                              sim_ratio_th=.10, rand = True, ratio_noise = 0, alphaR_ke = aRke,\n",
    "                              z_c_end=z_c_end, begin=begin, end=end, known_interactions = known_interactions,\n",
    "                              size_increase = 1., ERK_delta = False)\n",
    "model_no_delta.run()\n",
    "# print model_tmp.format_output()\n"
   ]
  },
  {
   "cell_type": "markdown",
   "metadata": {
    "deletable": true,
    "editable": true
   },
   "source": [
    "# Model variation with only binary contacts (no surface)"
   ]
  },
  {
   "cell_type": "code",
   "execution_count": null,
   "metadata": {
    "collapsed": true,
    "deletable": true,
    "editable": true
   },
   "outputs": [],
   "source": [
    "reload(ClassModel)\n",
    "InteractionModel = ClassModel.InteractionModel\n",
    "#### Here you can manually change the different parameters.\n",
    "ratio_th, low_th, hi_th, integration_time, kfLt_val, delta1, delta6, delta8, delta10, aRke = values[2]\n",
    "delta6, delta8 = 0.05, 0.05\n",
    "delta = [delta1, delta6, delta8, delta10]\n",
    "# ratio_th = 1.6\n",
    "## THESE ARE THE COMMENTED EXAMPLES\n",
    "# delta = 1e11 ### If this is uncommented it will set the delta to 1e11 for the next run\n",
    "# kfLt_val = 1e-6 ### If this is uncommented it will set the kfLt to 1e-6 for the next run\n",
    "\n",
    "kfLt = {k:kfLt_val for k in gene_expression.iterkeys()}\n",
    "begin = 2\n",
    "end = 15\n",
    "model = InteractionModel(lin_tree, surf_ex, couples, low_th, hi_th, ratio_th,\n",
    "                              kfLt, cells_to_find_induction, fates2, names, fates3_names,\n",
    "                              sim_nv, vol, surfaces, gene_expression,gene_affect_neighb, \n",
    "                              gene_affect_self, inv_lin_tree, pathways, stages,gene_effect,\n",
    "                              ground_truth, ground_truth_pw, time_end = time_end, grey_zone = cells_in_grey,\n",
    "                              integration_time = integration_time, dt = dt, delta = delta,\n",
    "                              sim_ratio_th=.10, rand = True, ratio_noise = 0, alphaR_ke = aRke,\n",
    "                              z_c_end=z_c_end, begin=begin, end=end, known_interactions = known_interactions,\n",
    "                              size_increase = 1., ERK_delta = True)\n",
    "model.run()\n",
    "\n",
    "(ratio_th_no_surf, low_th_no_surf,\n",
    " hi_th_no_surf, integration_time_no_surf,\n",
    " kfLt_val_no_surf, delta1_no_surf, delta6_no_surf,\n",
    " delta8_no_surf, delta10_no_surf, aRke_no_surf) = ((2.0, 40, 100, 720,\n",
    "                                      0.00031622776601683794,\n",
    "                                      10.0, 0.001, 0.001,\n",
    "                                      10.0, 9.9999999999999995e-07))\n",
    "\n",
    "kfLt_no_surf = {k:kfLt_val_no_surf for k in gene_expression.iterkeys()}\n",
    "delta_no_surf = [delta1_no_surf, delta6_no_surf, delta8_no_surf, delta10_no_surf]\n",
    "\n",
    "model_no_surf = InteractionModel(lin_tree, surf_ex, couples, low_th, hi_th, ratio_th,\n",
    "                                 kfLt, cells_to_find_induction, fates2, names, fates3_names,\n",
    "                                 sim_nv, vol, surfaces, gene_expression,gene_affect_neighb, \n",
    "                                 gene_affect_self, inv_lin_tree, pathways, stages,gene_effect,\n",
    "                                 ground_truth, ground_truth_pw, time_end=time_end, grey_zone = cells_in_grey,\n",
    "                                 delta = delta,take_surf = False, alphaR_ke = aRke,\n",
    "                                 integration_time = integration_time, dt = 2, sim_ratio_th=.10,\n",
    "                                 rand = False, ratio_noise = 0, z_c_end=z_c_end, begin=2, end=15,\n",
    "                                 basic_euler = False, size_increase = 1., ERK_delta = True,\n",
    "                                 max_E_for_induction = model.max_E_for_induction,\n",
    "                                 min_E_for_uninduction = model.min_E_for_uninduction)\n",
    "\n",
    "model_no_surf.run()"
   ]
  },
  {
   "cell_type": "markdown",
   "metadata": {
    "deletable": true,
    "editable": true
   },
   "source": [
    "# Model variation with +/- 20% signal"
   ]
  },
  {
   "cell_type": "code",
   "execution_count": null,
   "metadata": {
    "collapsed": true,
    "deletable": true,
    "editable": true
   },
   "outputs": [],
   "source": [
    "\n",
    "reload(ClassModel)\n",
    "InteractionModel = ClassModel.InteractionModel\n",
    "#### Here you can manually change the different parameters.\n",
    "ratio_th, low_th, hi_th, integration_time, kfLt_val, delta1, delta6, delta8, delta10, aRke = values[2]\n",
    "delta6, delta8 = 0.05, 0.05\n",
    "delta = [delta1, delta6, delta8, delta10]\n",
    "# ratio_th = 1.6\n",
    "## THESE ARE THE COMMENTED EXAMPLES\n",
    "# delta = 1e11 ### If this is uncommented it will set the delta to 1e11 for the next run\n",
    "# kfLt_val = 1e-6 ### If this is uncommented it will set the kfLt to 1e-6 for the next run\n",
    "\n",
    "perc = .5\n",
    "kfLt = {k:kfLt_val for k in gene_expression.iterkeys()}\n",
    "begin = 2\n",
    "end = 15\n",
    "model_20P = InteractionModel(lin_tree, surf_ex, couples, low_th, hi_th, ratio_th,\n",
    "                              kfLt, cells_to_find_induction, fates2, names, fates3_names,\n",
    "                              sim_nv, vol, surfaces, gene_expression,gene_affect_neighb, \n",
    "                              gene_affect_self, inv_lin_tree, pathways, stages,gene_effect,\n",
    "                              ground_truth, ground_truth_pw, time_end = time_end, grey_zone = cells_in_grey,\n",
    "                              integration_time = integration_time, dt = dt, delta = delta,\n",
    "                              sim_ratio_th=.10, rand = True, ratio_noise = 0, alphaR_ke = aRke,\n",
    "                              z_c_end=z_c_end, begin=begin, end=end, known_interactions = known_interactions,\n",
    "                              size_increase = 1, ERK_delta = True,\n",
    "                                 min_E_for_uninduction = model.min_E_for_uninduction,\n",
    "                                 max_E_for_induction = model.max_E_for_induction, signal_increase = 1 + perc)\n",
    "model_20P.run()\n",
    "\n",
    "model_20M = InteractionModel(lin_tree, surf_ex, couples, low_th, hi_th, ratio_th,\n",
    "                              kfLt, cells_to_find_induction, fates2, names, fates3_names,\n",
    "                              sim_nv, vol, surfaces, gene_expression,gene_affect_neighb, \n",
    "                              gene_affect_self, inv_lin_tree, pathways, stages,gene_effect,\n",
    "                              ground_truth, ground_truth_pw, time_end = time_end, grey_zone = cells_in_grey,\n",
    "                              integration_time = integration_time, dt = dt, delta = delta,\n",
    "                              sim_ratio_th=.10, rand = True, ratio_noise = 0, alphaR_ke = aRke,\n",
    "                              z_c_end=z_c_end, begin=begin, end=end, known_interactions = known_interactions,\n",
    "                              size_increase = 1, ERK_delta = True,\n",
    "                                 min_E_for_uninduction = model.min_E_for_uninduction,\n",
    "                                 max_E_for_induction = model.max_E_for_induction, signal_increase = 1 - perc)\n",
    "model_20M.run()"
   ]
  },
  {
   "cell_type": "code",
   "execution_count": null,
   "metadata": {
    "collapsed": false,
    "deletable": true,
    "editable": true
   },
   "outputs": [],
   "source": [
    "stage_selected = 11\n",
    "test = lambda st: st == 11\n",
    "test = lambda st: True\n",
    "\n",
    "c_see_stage = {short_name(names[ci]):[] for c, trash in couples for ci in lin_tree[c]}\n",
    "for c, see in model_no_delta.c_see.iteritems():\n",
    "    st = max([int(k[-1].split(' ')[-1]) for k in see])\n",
    "    if test(st):\n",
    "        c_see_stage[c] = [k for k in see if not 'ERK-' in k[0]]# and int(k[-1].split(' ')[-1]) == st]\n",
    "plus_minus_see = c_see_stage\n",
    "plus_minus = [len(k) for k in c_see_stage.itervalues()]\n",
    "\n",
    "c_see_stage = {short_name(names[ci]):[] for c, trash in couples for ci in lin_tree[c]}\n",
    "for c, see in model.c_induced.iteritems():\n",
    "    st = max([int(k[0][-1].split(' ')[-1]) for k in see])\n",
    "    if test(st) and not '6.' in c:\n",
    "        c_see_stage[c] = [k[0] for k in see]# if int(k[0][-1].split(' ')[-1]) == st and k[1] == 1]\n",
    "induced = [len(k) for k in c_see_stage.itervalues()]\n",
    "induced_see = c_see_stage\n",
    "\n",
    "bins = 11\n",
    "range_ = (0, 11)\n",
    "ylim = (0, 100)\n",
    "\n",
    "fig = plt.figure(figsize=(10,5))\n",
    "ax = fig.add_subplot(111)\n",
    "tmp = ax.hist(plus_minus, bins = bins, range = range_, align = 'left',\n",
    "        label = 'total #pathways seen: %d'%(np.sum(plus_minus)))\n",
    "ax.set_xlabel('#inducers', size = 35)\n",
    "ax.set_ylabel('#cells', size = 35)\n",
    "ax.legend(fontsize = 25)\n",
    "ax.set_xticks(range(0, 11, 2))\n",
    "ax.tick_params(axis = 'both', labelsize = 30)\n",
    "ax.set_ylim(ylim)\n",
    "\n",
    "fig.tight_layout()\n",
    "fig.savefig(output_folder + '5C.pdf')\n",
    "\n",
    "fig = plt.figure(figsize=(10,5))\n",
    "ax = fig.add_subplot(111)\n",
    "ax.hist(induced, bins = bins, range = range_, align = 'left',\n",
    "        label = '#inducers: %d\\n#induced cells: %d'%(np.sum(induced),\n",
    "                                                     len([i for i in induced if i > 0])))\n",
    "ax.set_xlabel('#inducers', size = 35)\n",
    "ax.set_ylabel('#cells', size = 35)\n",
    "ax.set_xticks(range(0, 11, 2))\n",
    "ax.legend(fontsize = 25)\n",
    "ax.tick_params(axis = 'both', labelsize = 30)\n",
    "ax.set_ylim(ylim)\n",
    "fig.tight_layout()\n",
    "fig.savefig(output_folder + '5D.pdf')"
   ]
  },
  {
   "cell_type": "code",
   "execution_count": null,
   "metadata": {
    "collapsed": false,
    "deletable": true,
    "editable": true
   },
   "outputs": [],
   "source": [
    "X = [5, 10, 20, 30, 40, 50]\n",
    "v112 = np.array([16, 18, 30, 44, 60, 76])\n",
    "v64 = np.array([12, 14, 22, 28, 34, 38])\n",
    "\n",
    "fig = plt.figure(figsize=(10, 8))\n",
    "ax = fig.add_subplot(111)\n",
    "\n",
    "ax.plot(X, v112, 'o-', label = '112-cell stage', ms = 10)\n",
    "ax.plot(X,  v64, 'o-', label = '64-cell stage', ms = 10)\n",
    "ax.plot([], [], 'ko--', label = 'Normalized to the\\nnumber of cells', ms = 10)\n",
    "ax.set_xlabel('increase/decrease [% of initial signal]', fontsize = 30)\n",
    "ax.set_ylabel('#signaling states changed', fontsize = 30)\n",
    "ax.tick_params(axis = 'both', labelsize = 25)\n",
    "ax2 = ax.twinx()\n",
    "\n",
    "ax2.plot(X, v112/112., 'o--', label = 'Normalized', ms = 10)\n",
    "ax2.plot(X,  v64/ 64., 'o--', label = 'Normalized', ms = 10)\n",
    "ax2.tick_params(axis = 'both', labelsize = 25)\n",
    "ax2.set_ylabel('% of signaling states changed', fontsize = 30)\n",
    "ax.legend(fontsize = 25)\n",
    "\n",
    "fig.tight_layout()\n",
    "plt.savefig(output_folder + 'change-in-signal.pdf')"
   ]
  }
 ],
 "metadata": {
  "kernelspec": {
   "display_name": "Python 2",
   "language": "python",
   "name": "python2"
  },
  "language_info": {
   "codemirror_mode": {
    "name": "ipython",
    "version": 2
   },
   "file_extension": ".py",
   "mimetype": "text/x-python",
   "name": "python",
   "nbconvert_exporter": "python",
   "pygments_lexer": "ipython2",
   "version": "2.7.11"
  }
 },
 "nbformat": 4,
 "nbformat_minor": 1
}
